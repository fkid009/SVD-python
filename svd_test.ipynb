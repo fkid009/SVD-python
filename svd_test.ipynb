{
 "cells": [
  {
   "cell_type": "code",
   "execution_count": 1,
   "id": "cfe85755",
   "metadata": {},
   "outputs": [],
   "source": [
    "import numpy as np\n",
    "\n",
    "from svd import svd_decomposition"
   ]
  },
  {
   "cell_type": "code",
   "execution_count": 2,
   "id": "a03aa2ad",
   "metadata": {},
   "outputs": [],
   "source": [
    "A = np.array(\n",
    "    [\n",
    "        [1, 2, 3],\n",
    "        [4, 5, 6],\n",
    "        [7, 8, 9]\n",
    "    ], dtype = float\n",
    ")"
   ]
  },
  {
   "cell_type": "code",
   "execution_count": 3,
   "id": "d5f598e7",
   "metadata": {},
   "outputs": [],
   "source": [
    "U, Sigma, Vt = svd_decomposition(A)"
   ]
  },
  {
   "cell_type": "code",
   "execution_count": 7,
   "id": "d40a311c",
   "metadata": {},
   "outputs": [
    {
     "name": "stdout",
     "output_type": "stream",
     "text": [
      "Our SVD results:\n",
      "U: \n",
      "[[-0.21483724  0.88723071 -0.40824828]\n",
      " [-0.52058739  0.249644    0.81649661]\n",
      " [-0.82633754 -0.38794271 -0.40824824]]\n",
      "Sigma: \n",
      "[[16.84810335  0.          0.        ]\n",
      " [ 0.          1.06836951  0.        ]\n",
      " [ 0.          0.          0.        ]]\n",
      "Vt: \n",
      "[[-0.47967118 -0.57236779 -0.66506441]\n",
      " [-0.77669099 -0.07568647  0.62531805]\n",
      " [ 0.40824829 -0.81649658  0.40824829]]\n"
     ]
    }
   ],
   "source": [
    "print(\"Our SVD results:\")\n",
    "print(f\"U: \\n{U}\")\n",
    "print(f\"Sigma: \\n{Sigma}\")\n",
    "print(f\"Vt: \\n{Vt}\")"
   ]
  },
  {
   "cell_type": "code",
   "execution_count": 8,
   "id": "b75fbc88",
   "metadata": {},
   "outputs": [],
   "source": [
    "A_reconstructed = np.dot(U, np.dot(Sigma, Vt))"
   ]
  },
  {
   "cell_type": "code",
   "execution_count": 9,
   "id": "b507a37b",
   "metadata": {},
   "outputs": [
    {
     "name": "stdout",
     "output_type": "stream",
     "text": [
      "Reconstructed A:\n",
      "[[0.99999999 2.         3.00000002]\n",
      " [3.99999996 5.         6.00000003]\n",
      " [6.99999994 7.99999999 9.00000005]]\n"
     ]
    }
   ],
   "source": [
    "print(\"Reconstructed A:\")\n",
    "print(A_reconstructed)"
   ]
  },
  {
   "cell_type": "code",
   "execution_count": 10,
   "id": "2485de7c",
   "metadata": {},
   "outputs": [
    {
     "name": "stdout",
     "output_type": "stream",
     "text": [
      "Reconstruction error: \n",
      "9.24e-08\n"
     ]
    }
   ],
   "source": [
    "error = np.linalg.norm(A - A_reconstructed, 'fro')\n",
    "print(f\"Reconstruction error: \")\n",
    "print(f\"{error:.2e}\")"
   ]
  },
  {
   "cell_type": "code",
   "execution_count": null,
   "id": "85db7f8b",
   "metadata": {},
   "outputs": [],
   "source": []
  }
 ],
 "metadata": {
  "kernelspec": {
   "display_name": "Python 3",
   "language": "python",
   "name": "python3"
  },
  "language_info": {
   "codemirror_mode": {
    "name": "ipython",
    "version": 3
   },
   "file_extension": ".py",
   "mimetype": "text/x-python",
   "name": "python",
   "nbconvert_exporter": "python",
   "pygments_lexer": "ipython3",
   "version": "3.10.11"
  }
 },
 "nbformat": 4,
 "nbformat_minor": 5
}
